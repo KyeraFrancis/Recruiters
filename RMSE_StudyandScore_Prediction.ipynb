{
  "nbformat": 4,
  "nbformat_minor": 0,
  "metadata": {
    "colab": {
      "provenance": [],
      "include_colab_link": true
    },
    "kernelspec": {
      "name": "python3",
      "display_name": "Python 3"
    },
    "language_info": {
      "name": "python"
    }
  },
  "cells": [
    {
      "cell_type": "markdown",
      "metadata": {
        "id": "view-in-github",
        "colab_type": "text"
      },
      "source": [
        "<a href=\"https://colab.research.google.com/github/KyeraFrancis/Recruiters/blob/main/RMSE_StudyandScore_Prediction.ipynb\" target=\"_parent\"><img src=\"https://colab.research.google.com/assets/colab-badge.svg\" alt=\"Open In Colab\"/></a>"
      ]
    },
    {
      "cell_type": "markdown",
      "source": [
        "## Predictive Machine Learning Analysis for study time relationship with the score that is earned"
      ],
      "metadata": {
        "id": "ZGhkgw8rD7qz"
      }
    },
    {
      "cell_type": "code",
      "metadata": {
        "id": "oevcqQTHzByd"
      },
      "source": [
        "import numpy as np"
      ],
      "execution_count": null,
      "outputs": []
    },
    {
      "cell_type": "code",
      "metadata": {
        "id": "1IhmqMlTzRfv"
      },
      "source": [
        "# X is study time and Y is math scores\n",
        "X=[3,6,9,12,15]\n",
        "Y=[34,61,73,96,98]"
      ],
      "execution_count": null,
      "outputs": []
    },
    {
      "cell_type": "code",
      "metadata": {
        "colab": {
          "base_uri": "https://localhost:8080/"
        },
        "id": "1kBFB7t7zjRn",
        "outputId": "4397c9c7-455a-40fd-f717-bf8f43352e89"
      },
      "source": [
        "# Find the mean for X and Y\n",
        "mean_X = np.mean(X)\n",
        "mean_Y = np.mean(Y)\n",
        "print(\"mean of X: \", mean_X)\n",
        "print(\"mean of Y: \", mean_Y)"
      ],
      "execution_count": null,
      "outputs": [
        {
          "output_type": "stream",
          "name": "stdout",
          "text": [
            "mean of X:  9.0\n",
            "mean of Y:  72.4\n"
          ]
        }
      ]
    },
    {
      "cell_type": "code",
      "metadata": {
        "colab": {
          "base_uri": "https://localhost:8080/"
        },
        "id": "FnpJd2Z9zoSm",
        "outputId": "e619a60c-70e0-4d5f-e568-870ca31679e1"
      },
      "source": [
        "# Find the divisor for calculating slope\n",
        "divisor = sum([(mean_X-i)**2 for i in X])\n",
        "\n",
        "# Find the dividend for calculating slope (making a function)\n",
        "def top(x, mx, y, my):\n",
        "  d = 0\n",
        "  for i in range(len(x)):\n",
        "    temp = (x[i]-mx)*(y[i]-my)\n",
        "    d += temp\n",
        "  return d\n",
        "\n",
        "# Call the function, top()\n",
        "dividend = top(X, mean_X, Y, mean_Y)\n",
        "print(\"divisor: \", divisor)\n",
        "print(\"dividend: \", dividend)"
      ],
      "execution_count": null,
      "outputs": [
        {
          "output_type": "stream",
          "name": "stdout",
          "text": [
            "divisor:  90.0\n",
            "dividend:  488.99999999999994\n"
          ]
        }
      ]
    },
    {
      "cell_type": "code",
      "metadata": {
        "colab": {
          "base_uri": "https://localhost:8080/"
        },
        "id": "YtnUdVD40pQL",
        "outputId": "0670c0d6-7aa9-4d66-addb-3d86dccbfe89"
      },
      "source": [
        "# Calulate slope (coefficient) and intercept => Y = aX + b\n",
        "a = dividend/divisor\n",
        "b = mean_Y - (mean_X*a)\n",
        "print(\"slope (coefficient): \", a)\n",
        "print(\"intercept: \", b)\n",
        "print(\"Y = \",a,\"X +\", b)"
      ],
      "execution_count": null,
      "outputs": [
        {
          "output_type": "stream",
          "name": "stdout",
          "text": [
            "slope (coefficient):  5.433333333333333\n",
            "intercept:  23.500000000000014\n",
            "Y =  5.433333333333333 X + 23.500000000000014\n"
          ]
        }
      ]
    },
    {
      "cell_type": "code",
      "metadata": {
        "colab": {
          "base_uri": "https://localhost:8080/",
          "height": 470
        },
        "id": "o4Uo20X22fYX",
        "outputId": "66ec83b5-5ac0-4851-c821-0239621d797d"
      },
      "source": [
        "# Visualize the data (consisting of X and Y) on the graph\n",
        "import matplotlib.pyplot as plt\n",
        "print(\"Y = \",a,\"X +\", b)\n",
        "plt.xlabel(\"study time\")\n",
        "plt.ylabel(\"Math score\")\n",
        "plt.plot(X,Y,'bo')\n",
        "plt.axis([0, 18, 1, 120])\n",
        "x=np.linspace(0,18)\n",
        "plt.plot(x, b + a*x,'r')\n",
        "plt.show()"
      ],
      "execution_count": null,
      "outputs": [
        {
          "output_type": "stream",
          "name": "stdout",
          "text": [
            "Y =  5.433333333333333 X + 23.500000000000014\n"
          ]
        },
        {
          "output_type": "display_data",
          "data": {
            "text/plain": [
              "<Figure size 640x480 with 1 Axes>"
            ],
            "image/png": "[encoded data removed]"
          },
          "metadata": {}
        }
      ]
    },
    {
      "cell_type": "code",
      "metadata": {
        "colab": {
          "base_uri": "https://localhost:8080/"
        },
        "id": "bcLKXsgllzbR",
        "outputId": "60adefcf-dbab-494f-add4-6d24d312d5e7"
      },
      "source": [
        "# Calculating RMSE\n",
        "import numpy as np\n",
        "\n",
        "# intercept (t0) and coefficient (t1)\n",
        "t0 = 23.5\n",
        "t1 = 5.43\n",
        "\n",
        "# data consisting of X and Y\n",
        "X=[3,6,9,12,15]\n",
        "Y=[34,61,73,96,98]\n",
        "\n",
        "# function to predicted value using equation\n",
        "def predict(x):\n",
        "  return t1*x + t0\n",
        "\n",
        "# RMSE function\n",
        "def rmse(Pi, Yi):\n",
        "  return np.sqrt(((Pi-Yi)**2).mean())\n",
        "\n",
        "# function to find final RMSE by inputting y into RMSE\n",
        "def rmse_val(predict_result, y):\n",
        "  return rmse(np.array(predict_result), np.array(y))\n",
        "\n",
        "# list to store predicted values\n",
        "predict_result = []\n",
        "\n",
        "# Store predicted values into the list\n",
        "for i in range(len(X)):\n",
        "  predict_result.append(predict(X[i]))\n",
        "  print(\"study time = %.f, real value = %.f, predicted value = %.f\" %(X[i], Y[i], predict(X[i])))\n",
        "\n",
        "# Output final RMSE\n",
        "print(\"final rmse: \" + str(rmse_val(predict_result,Y)))\n",
        "\n",
        "# Display current date/time (CST)\n",
        "import datetime\n",
        "import pytz\n",
        "CST = pytz.timezone('US/Central')\n",
        "d = datetime.datetime.now(CST)\n",
        "print(\"\\n\\n\")\n",
        "print(d)\n",
        "\n",
        "# Type your name after Developer: below\n",
        "print(\"\\nDeveloper: Kyera Francis\")"
      ],
      "execution_count": null,
      "outputs": [
        {
          "output_type": "stream",
          "name": "stdout",
          "text": [
            "study time = 3, real value = 34, predicted value = 40\n",
            "study time = 6, real value = 61, predicted value = 56\n",
            "study time = 9, real value = 73, predicted value = 72\n",
            "study time = 12, real value = 96, predicted value = 89\n",
            "study time = 15, real value = 98, predicted value = 105\n",
            "final rmse: 5.662252202083547\n",
            "\n",
            "\n",
            "\n",
            "2023-07-05 17:21:11.982410-05:00\n",
            "\n",
            "Developer: Kyera Francis\n"
          ]
        }
      ]
    },
    {
      "cell_type": "code",
      "metadata": {
        "id": "YZeXxvtV4hEg"
      },
      "source": [],
      "execution_count": null,
      "outputs": []
    }
  ]
}